# Hybrid Phishing Detection Research Notebook

This notebook implements the hybrid feature + hybrid ensemble approach for phishing detection.

## Sections
1. Data Loading and Cleaning
2. Feature Extraction (Lexical, Host, Content)
3. Hybrid Feature Fusion
4. Model Training (RF + XGB + LGBM)
5. Evaluation (Precision, Recall, F1, ROC-AUC)
6. Ethical Notes and Limitations

